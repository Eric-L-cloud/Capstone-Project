{
 "cells": [
  {
   "cell_type": "code",
   "execution_count": null,
   "metadata": {},
   "outputs": [],
   "source": [
    "!pip install nbformat\n",
    "!pip install sklearn\n",
    "!pip install plotly\n",
    "!pip install umap.umap_\n",
    "!pip install sentence_transformers\n",
    "!pip install umap-learn"
   ]
  }
 ],
 "metadata": {
  "language_info": {
   "name": "python"
  }
 },
 "nbformat": 4,
 "nbformat_minor": 2
}
