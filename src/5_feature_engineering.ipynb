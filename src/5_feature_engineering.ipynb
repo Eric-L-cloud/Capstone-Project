{
 "cells": [
  {
   "cell_type": "code",
   "execution_count": 64,
   "metadata": {},
   "outputs": [],
   "source": [
    "from sentence_transformers import SentenceTransformer"
   ]
  },
  {
   "cell_type": "code",
   "execution_count": 65,
   "metadata": {},
   "outputs": [],
   "source": [
    "import plotly.express as px\n",
    "import plotly.graph_objects as go\n",
    "from IPython.display import HTML"
   ]
  },
  {
   "cell_type": "code",
   "execution_count": 66,
   "metadata": {},
   "outputs": [
    {
     "name": "stdout",
     "output_type": "stream",
     "text": [
      "Defaulting to user installation because normal site-packages is not writeable\n",
      "Requirement already satisfied: pyarrow in c:\\programdata\\anaconda3\\lib\\site-packages (16.1.0)\n",
      "Requirement already satisfied: numpy>=1.16.6 in c:\\programdata\\anaconda3\\lib\\site-packages (from pyarrow) (1.26.4)\n",
      "Note: you may need to restart the kernel to use updated packages.\n",
      "Defaulting to user installation because normal site-packages is not writeable\n",
      "Requirement already satisfied: fastparquet in c:\\users\\brian\\appdata\\roaming\\python\\python312\\site-packages (2024.11.0)\n",
      "Requirement already satisfied: pandas>=1.5.0 in c:\\programdata\\anaconda3\\lib\\site-packages (from fastparquet) (2.2.2)\n",
      "Requirement already satisfied: numpy in c:\\programdata\\anaconda3\\lib\\site-packages (from fastparquet) (1.26.4)\n",
      "Requirement already satisfied: cramjam>=2.3 in c:\\users\\brian\\appdata\\roaming\\python\\python312\\site-packages (from fastparquet) (2.10.0)\n",
      "Requirement already satisfied: fsspec in c:\\programdata\\anaconda3\\lib\\site-packages (from fastparquet) (2024.6.1)\n",
      "Requirement already satisfied: packaging in c:\\programdata\\anaconda3\\lib\\site-packages (from fastparquet) (24.1)\n",
      "Requirement already satisfied: python-dateutil>=2.8.2 in c:\\programdata\\anaconda3\\lib\\site-packages (from pandas>=1.5.0->fastparquet) (2.9.0.post0)\n",
      "Requirement already satisfied: pytz>=2020.1 in c:\\programdata\\anaconda3\\lib\\site-packages (from pandas>=1.5.0->fastparquet) (2024.1)\n",
      "Requirement already satisfied: tzdata>=2022.7 in c:\\programdata\\anaconda3\\lib\\site-packages (from pandas>=1.5.0->fastparquet) (2023.3)\n",
      "Requirement already satisfied: six>=1.5 in c:\\programdata\\anaconda3\\lib\\site-packages (from python-dateutil>=2.8.2->pandas>=1.5.0->fastparquet) (1.16.0)\n",
      "Note: you may need to restart the kernel to use updated packages.\n",
      "<class 'pandas.core.frame.DataFrame'>\n",
      "RangeIndex: 155344 entries, 0 to 155343\n",
      "Data columns (total 10 columns):\n",
      " #   Column                          Non-Null Count   Dtype \n",
      "---  ------                          --------------   ----- \n",
      " 0   Investors                       155344 non-null  object\n",
      " 1   Primary Contact                 155342 non-null  object\n",
      " 2   Description                     155344 non-null  object\n",
      " 3   Geography                       155344 non-null  object\n",
      " 4   Preferred Industry              155330 non-null  object\n",
      " 5   Preferred Investment Type       154764 non-null  object\n",
      " 6   Primary Investor Type           154680 non-null  object\n",
      " 7   geography_tags                  155344 non-null  object\n",
      " 8   preferred_investment_type_tags  155344 non-null  object\n",
      " 9   preferred_industry_tags         155344 non-null  object\n",
      "dtypes: object(10)\n",
      "memory usage: 11.9+ MB\n",
      "(15502, 9)\n"
     ]
    }
   ],
   "source": [
    "%run 4_EDA.ipynb"
   ]
  },
  {
   "cell_type": "code",
   "execution_count": 67,
   "metadata": {},
   "outputs": [],
   "source": [
    "model = SentenceTransformer('all-MiniLM-L6-v2')"
   ]
  },
  {
   "cell_type": "code",
   "execution_count": 82,
   "metadata": {},
   "outputs": [
    {
     "data": {
      "application/vnd.microsoft.datawrangler.viewer.v0+json": {
       "columns": [
        {
         "name": "geography_tags",
         "rawType": "object",
         "type": "string"
        },
        {
         "name": "count",
         "rawType": "int64",
         "type": "integer"
        }
       ],
       "ref": "ae487b4b-db89-4a19-bd33-7814b417f5df",
       "rows": [
        [
         "",
         "112339"
        ],
        [
         "united states",
         "7106"
        ],
        [
         "europe",
         "3933"
        ],
        [
         "canada",
         "2146"
        ],
        [
         "north america",
         "1484"
        ],
        [
         "asia",
         "1484"
        ],
        [
         "united kingdom",
         "887"
        ],
        [
         "africa",
         "871"
        ],
        [
         "middle east",
         "820"
        ],
        [
         "americas",
         "757"
        ],
        [
         "germany",
         "709"
        ],
        [
         "india",
         "666"
        ],
        [
         "israel",
         "627"
        ],
        [
         "australia",
         "568"
        ],
        [
         "china",
         "556"
        ],
        [
         "southeast",
         "494"
        ],
        [
         "california",
         "462"
        ],
        [
         "south america",
         "456"
        ],
        [
         "france",
         "445"
        ],
        [
         "midwest",
         "439"
        ],
        [
         "southeast asia",
         "428"
        ],
        [
         "western europe",
         "413"
        ],
        [
         "switzerland",
         "391"
        ],
        [
         "oceania",
         "371"
        ],
        [
         "japan",
         "362"
        ],
        [
         "netherlands",
         "348"
        ],
        [
         "new york",
         "344"
        ],
        [
         "spain",
         "317"
        ],
        [
         "northeast",
         "316"
        ],
        [
         "sweden",
         "315"
        ],
        [
         "mid atlantic",
         "302"
        ],
        [
         "austria",
         "299"
        ],
        [
         "brazil",
         "296"
        ],
        [
         "southwest",
         "296"
        ],
        [
         "italy",
         "278"
        ],
        [
         "denmark",
         "273"
        ],
        [
         "west coast",
         "264"
        ],
        [
         "northern europe",
         "254"
        ],
        [
         "norway",
         "248"
        ],
        [
         "central america",
         "247"
        ],
        [
         "finland",
         "244"
        ],
        [
         "new zealand",
         "238"
        ],
        [
         "south",
         "233"
        ],
        [
         "mexico",
         "233"
        ],
        [
         "belgium",
         "214"
        ],
        [
         "eastern europe",
         "213"
        ],
        [
         "texas",
         "202"
        ],
        [
         "singapore",
         "197"
        ],
        [
         "south korea",
         "196"
        ],
        [
         "hong kong",
         "174"
        ]
       ],
       "shape": {
        "columns": 1,
        "rows": 4609
       }
      },
      "text/plain": [
       "geography_tags\n",
       "                                                                                                                                                                                                                                                                                                       112339\n",
       "united states                                                                                                                                                                                                                                                                                            7106\n",
       "europe                                                                                                                                                                                                                                                                                                   3933\n",
       "canada                                                                                                                                                                                                                                                                                                   2146\n",
       "north america                                                                                                                                                                                                                                                                                            1484\n",
       "                                                                                                                                                                                                                                                                                                        ...  \n",
       "inc. is a one-bank holding company incorporated under the laws of north carolina to serve as the holding company for gateway bank &amp; trust co. the primary purpose of the bank is to serve the banking needs of individuals and businesses in northeastern north carolina and tidewater virginia         1\n",
       "with all decisions and product offerings to be in the interests of its customers while providing an acceptable return for the shareholders of the company. the company offers a range of banking services including checking and savings accounts; commercial                                               1\n",
       "installment                                                                                                                                                                                                                                                                                                 1\n",
       "and personal loans; safe deposit boxes; and other associated services. the company's market area is the northeastern coastal region of north carolina and the hampton roads metropolitan statistical area of virginia.                                                                                      1\n",
       "france. the company is involved in fund management activities.                                                                                                                                                                                                                                              1\n",
       "Name: count, Length: 4609, dtype: int64"
      ]
     },
     "execution_count": 82,
     "metadata": {},
     "output_type": "execute_result"
    }
   ],
   "source": [
    "geography_tags_list"
   ]
  },
  {
   "cell_type": "code",
   "execution_count": 95,
   "metadata": {},
   "outputs": [
    {
     "data": {
      "application/vnd.microsoft.datawrangler.viewer.v0+json": {
       "columns": [
        {
         "name": "geography_tags",
         "rawType": "object",
         "type": "string"
        },
        {
         "name": "count",
         "rawType": "int64",
         "type": "integer"
        }
       ],
       "ref": "0cb14936-1ba3-4928-9768-bc0ebbf6bef8",
       "rows": [
        [
         "",
         "112339"
        ],
        [
         "united states",
         "7106"
        ],
        [
         "europe",
         "3933"
        ],
        [
         "canada",
         "2146"
        ],
        [
         "north america",
         "1484"
        ],
        [
         "asia",
         "1484"
        ],
        [
         "united kingdom",
         "887"
        ],
        [
         "africa",
         "871"
        ],
        [
         "middle east",
         "820"
        ],
        [
         "americas",
         "757"
        ],
        [
         "germany",
         "709"
        ],
        [
         "india",
         "666"
        ],
        [
         "israel",
         "627"
        ],
        [
         "australia",
         "568"
        ],
        [
         "china",
         "556"
        ],
        [
         "southeast",
         "494"
        ],
        [
         "california",
         "462"
        ],
        [
         "south america",
         "456"
        ],
        [
         "france",
         "445"
        ],
        [
         "midwest",
         "439"
        ],
        [
         "southeast asia",
         "428"
        ],
        [
         "western europe",
         "413"
        ],
        [
         "switzerland",
         "391"
        ],
        [
         "oceania",
         "371"
        ],
        [
         "japan",
         "362"
        ],
        [
         "netherlands",
         "348"
        ],
        [
         "new york",
         "344"
        ],
        [
         "spain",
         "317"
        ],
        [
         "northeast",
         "316"
        ],
        [
         "sweden",
         "315"
        ],
        [
         "mid atlantic",
         "302"
        ],
        [
         "austria",
         "299"
        ],
        [
         "brazil",
         "296"
        ],
        [
         "southwest",
         "296"
        ],
        [
         "italy",
         "278"
        ],
        [
         "denmark",
         "273"
        ],
        [
         "west coast",
         "264"
        ],
        [
         "northern europe",
         "254"
        ],
        [
         "norway",
         "248"
        ],
        [
         "central america",
         "247"
        ],
        [
         "finland",
         "244"
        ],
        [
         "new zealand",
         "238"
        ],
        [
         "south",
         "233"
        ],
        [
         "mexico",
         "233"
        ],
        [
         "belgium",
         "214"
        ],
        [
         "eastern europe",
         "213"
        ],
        [
         "texas",
         "202"
        ],
        [
         "singapore",
         "197"
        ],
        [
         "south korea",
         "196"
        ],
        [
         "hong kong",
         "174"
        ]
       ],
       "shape": {
        "columns": 1,
        "rows": 375
       }
      },
      "text/plain": [
       "geography_tags\n",
       "                   112339\n",
       "united states        7106\n",
       "europe               3933\n",
       "canada               2146\n",
       "north america        1484\n",
       "                    ...  \n",
       "comoros                 3\n",
       "somalia                 3\n",
       "leasing                 3\n",
       "debt                    3\n",
       "venture capital         3\n",
       "Name: count, Length: 375, dtype: int64"
      ]
     },
     "execution_count": 95,
     "metadata": {},
     "output_type": "execute_result"
    }
   ],
   "source": [
    "geography_tags_list = geography_tags_list[geography_tags_list>=3]\n",
    "geography_tags_list"
   ]
  },
  {
   "cell_type": "code",
   "execution_count": 96,
   "metadata": {},
   "outputs": [],
   "source": [
    "geography_embeddings = model.encode(geography_tags_list.index.to_list())"
   ]
  },
  {
   "cell_type": "code",
   "execution_count": 97,
   "metadata": {},
   "outputs": [
    {
     "data": {
      "text/plain": [
       "array([[-0.11883836,  0.04829866, -0.00254808, ...,  0.12640947,\n",
       "         0.04654906, -0.01571728],\n",
       "       [ 0.06430633, -0.00233025,  0.00298104, ..., -0.00998681,\n",
       "         0.00754462,  0.02378987],\n",
       "       [ 0.07035641,  0.06353405, -0.03296059, ...,  0.02717287,\n",
       "        -0.00712428,  0.0315084 ],\n",
       "       ...,\n",
       "       [ 0.00024783,  0.00170734,  0.01498767, ..., -0.0586244 ,\n",
       "        -0.00537967, -0.07741988],\n",
       "       [-0.05865506,  0.0534432 , -0.06228608, ..., -0.10040589,\n",
       "        -0.00551384, -0.05171675],\n",
       "       [ 0.05136243, -0.04624943,  0.0186265 , ..., -0.08323827,\n",
       "         0.05829374, -0.05005372]], dtype=float32)"
      ]
     },
     "execution_count": 97,
     "metadata": {},
     "output_type": "execute_result"
    }
   ],
   "source": [
    "geography_embeddings"
   ]
  },
  {
   "cell_type": "code",
   "execution_count": 98,
   "metadata": {},
   "outputs": [
    {
     "name": "stderr",
     "output_type": "stream",
     "text": [
      "C:\\Users\\brian\\AppData\\Roaming\\Python\\Python312\\site-packages\\umap\\umap_.py:1952: UserWarning:\n",
      "\n",
      "n_jobs value 1 overridden to 1 by setting random_state. Use no seed for parallelism.\n",
      "\n"
     ]
    },
    {
     "data": {
      "application/vnd.microsoft.datawrangler.viewer.v0+json": {
       "columns": [
        {
         "name": "index",
         "rawType": "int64",
         "type": "integer"
        },
        {
         "name": "Geography",
         "rawType": "object",
         "type": "string"
        },
        {
         "name": "Dimension_1",
         "rawType": "float32",
         "type": "float"
        },
        {
         "name": "Dimension_2",
         "rawType": "float32",
         "type": "float"
        }
       ],
       "ref": "84b1165c-dfc0-4aea-8c56-178b2b7f3d39",
       "rows": [
        [
         "0",
         "",
         "7.516799",
         "6.5120454"
        ],
        [
         "1",
         "united states",
         "10.03157",
         "5.9052978"
        ],
        [
         "2",
         "europe",
         "12.280464",
         "7.7773137"
        ],
        [
         "3",
         "canada",
         "10.332307",
         "5.5218105"
        ],
        [
         "4",
         "north america",
         "10.993505",
         "5.175611"
        ],
        [
         "5",
         "asia",
         "11.568806",
         "9.696302"
        ],
        [
         "6",
         "united kingdom",
         "11.698013",
         "7.3454247"
        ],
        [
         "7",
         "africa",
         "8.764316",
         "10.7569475"
        ],
        [
         "8",
         "middle east",
         "10.099195",
         "10.091654"
        ],
        [
         "9",
         "americas",
         "11.250243",
         "5.3662515"
        ],
        [
         "10",
         "germany",
         "12.264635",
         "7.2447767"
        ],
        [
         "11",
         "india",
         "10.860637",
         "9.215837"
        ],
        [
         "12",
         "israel",
         "10.110403",
         "9.669766"
        ],
        [
         "13",
         "australia",
         "11.12536",
         "7.283234"
        ],
        [
         "14",
         "china",
         "11.619623",
         "9.459442"
        ],
        [
         "15",
         "southeast",
         "9.460254",
         "3.560123"
        ],
        [
         "16",
         "california",
         "9.195145",
         "4.1538024"
        ],
        [
         "17",
         "south america",
         "11.685703",
         "5.3821864"
        ],
        [
         "18",
         "france",
         "12.418929",
         "7.184929"
        ],
        [
         "19",
         "midwest",
         "9.095544",
         "3.2715735"
        ],
        [
         "20",
         "southeast asia",
         "11.549967",
         "9.858025"
        ],
        [
         "21",
         "western europe",
         "12.164633",
         "7.8712068"
        ],
        [
         "22",
         "switzerland",
         "12.303945",
         "7.4671082"
        ],
        [
         "23",
         "oceania",
         "9.939021",
         "7.6647735"
        ],
        [
         "24",
         "japan",
         "11.61366",
         "9.410129"
        ],
        [
         "25",
         "netherlands",
         "12.438381",
         "7.6568074"
        ],
        [
         "26",
         "new york",
         "9.318296",
         "4.9181"
        ],
        [
         "27",
         "spain",
         "12.587398",
         "7.0660377"
        ],
        [
         "28",
         "northeast",
         "9.565397",
         "3.601491"
        ],
        [
         "29",
         "sweden",
         "12.065338",
         "8.041004"
        ],
        [
         "30",
         "mid atlantic",
         "9.729599",
         "3.7313168"
        ],
        [
         "31",
         "austria",
         "13.048253",
         "7.8225136"
        ],
        [
         "32",
         "brazil",
         "12.262309",
         "6.782591"
        ],
        [
         "33",
         "southwest",
         "9.475739",
         "3.6553397"
        ],
        [
         "34",
         "italy",
         "12.710124",
         "7.1477795"
        ],
        [
         "35",
         "denmark",
         "12.144764",
         "7.936402"
        ],
        [
         "36",
         "west coast",
         "9.658061",
         "3.9192338"
        ],
        [
         "37",
         "northern europe",
         "12.174164",
         "7.813344"
        ],
        [
         "38",
         "norway",
         "11.986771",
         "8.018539"
        ],
        [
         "39",
         "central america",
         "11.573904",
         "5.41024"
        ],
        [
         "40",
         "finland",
         "12.244625",
         "8.193401"
        ],
        [
         "41",
         "new zealand",
         "10.526141",
         "7.5098853"
        ],
        [
         "42",
         "south",
         "9.334619",
         "3.5935557"
        ],
        [
         "43",
         "mexico",
         "11.736464",
         "6.1007805"
        ],
        [
         "44",
         "belgium",
         "12.495266",
         "7.6342735"
        ],
        [
         "45",
         "eastern europe",
         "12.2765045",
         "7.98281"
        ],
        [
         "46",
         "texas",
         "8.640339",
         "3.6077666"
        ],
        [
         "47",
         "singapore",
         "11.524978",
         "9.982138"
        ],
        [
         "48",
         "south korea",
         "11.378567",
         "9.1488695"
        ],
        [
         "49",
         "hong kong",
         "11.574298",
         "9.932906"
        ]
       ],
       "shape": {
        "columns": 3,
        "rows": 375
       }
      },
      "text/html": [
       "<div>\n",
       "<style scoped>\n",
       "    .dataframe tbody tr th:only-of-type {\n",
       "        vertical-align: middle;\n",
       "    }\n",
       "\n",
       "    .dataframe tbody tr th {\n",
       "        vertical-align: top;\n",
       "    }\n",
       "\n",
       "    .dataframe thead th {\n",
       "        text-align: right;\n",
       "    }\n",
       "</style>\n",
       "<table border=\"1\" class=\"dataframe\">\n",
       "  <thead>\n",
       "    <tr style=\"text-align: right;\">\n",
       "      <th></th>\n",
       "      <th>Geography</th>\n",
       "      <th>Dimension_1</th>\n",
       "      <th>Dimension_2</th>\n",
       "    </tr>\n",
       "  </thead>\n",
       "  <tbody>\n",
       "    <tr>\n",
       "      <th>0</th>\n",
       "      <td></td>\n",
       "      <td>7.516799</td>\n",
       "      <td>6.512045</td>\n",
       "    </tr>\n",
       "    <tr>\n",
       "      <th>1</th>\n",
       "      <td>united states</td>\n",
       "      <td>10.031570</td>\n",
       "      <td>5.905298</td>\n",
       "    </tr>\n",
       "    <tr>\n",
       "      <th>2</th>\n",
       "      <td>europe</td>\n",
       "      <td>12.280464</td>\n",
       "      <td>7.777314</td>\n",
       "    </tr>\n",
       "    <tr>\n",
       "      <th>3</th>\n",
       "      <td>canada</td>\n",
       "      <td>10.332307</td>\n",
       "      <td>5.521811</td>\n",
       "    </tr>\n",
       "    <tr>\n",
       "      <th>4</th>\n",
       "      <td>north america</td>\n",
       "      <td>10.993505</td>\n",
       "      <td>5.175611</td>\n",
       "    </tr>\n",
       "    <tr>\n",
       "      <th>...</th>\n",
       "      <td>...</td>\n",
       "      <td>...</td>\n",
       "      <td>...</td>\n",
       "    </tr>\n",
       "    <tr>\n",
       "      <th>370</th>\n",
       "      <td>comoros</td>\n",
       "      <td>11.814503</td>\n",
       "      <td>6.287049</td>\n",
       "    </tr>\n",
       "    <tr>\n",
       "      <th>371</th>\n",
       "      <td>somalia</td>\n",
       "      <td>9.202439</td>\n",
       "      <td>10.732203</td>\n",
       "    </tr>\n",
       "    <tr>\n",
       "      <th>372</th>\n",
       "      <td>leasing</td>\n",
       "      <td>7.145622</td>\n",
       "      <td>6.831632</td>\n",
       "    </tr>\n",
       "    <tr>\n",
       "      <th>373</th>\n",
       "      <td>debt</td>\n",
       "      <td>7.136538</td>\n",
       "      <td>6.779355</td>\n",
       "    </tr>\n",
       "    <tr>\n",
       "      <th>374</th>\n",
       "      <td>venture capital</td>\n",
       "      <td>6.728146</td>\n",
       "      <td>6.655566</td>\n",
       "    </tr>\n",
       "  </tbody>\n",
       "</table>\n",
       "<p>375 rows × 3 columns</p>\n",
       "</div>"
      ],
      "text/plain": [
       "           Geography  Dimension_1  Dimension_2\n",
       "0                        7.516799     6.512045\n",
       "1      united states    10.031570     5.905298\n",
       "2             europe    12.280464     7.777314\n",
       "3             canada    10.332307     5.521811\n",
       "4      north america    10.993505     5.175611\n",
       "..               ...          ...          ...\n",
       "370          comoros    11.814503     6.287049\n",
       "371          somalia     9.202439    10.732203\n",
       "372          leasing     7.145622     6.831632\n",
       "373             debt     7.136538     6.779355\n",
       "374  venture capital     6.728146     6.655566\n",
       "\n",
       "[375 rows x 3 columns]"
      ]
     },
     "execution_count": 98,
     "metadata": {},
     "output_type": "execute_result"
    }
   ],
   "source": [
    "import umap.umap_ as umap\n",
    "\n",
    "#Reduce dimensions using umap (good for large dataset)\n",
    "umap_model = umap.UMAP(n_components=2, random_state=42)\n",
    "geography_embeddings_umap = umap_model.fit_transform(geography_embeddings)\n",
    "geography_embeddings_umap\n",
    "\n",
    "# Combine geography_tags_list.index and geography_embeddings_umap into a DataFrame\n",
    "geography_embeddings_umap_df = pd.DataFrame({\n",
    "    'Geography': geography_tags_list.index,\n",
    "    'Dimension_1': [embedding[0] for embedding in geography_embeddings_umap],\n",
    "    'Dimension_2': [embedding[1] for embedding in geography_embeddings_umap]\n",
    "})\n",
    "geography_embeddings_umap_df\n",
    "\n",
    "geography_embeddings_umap_df"
   ]
  },
  {
   "cell_type": "code",
   "execution_count": 99,
   "metadata": {},
   "outputs": [
    {
     "data": {
      "image/png": "[encoded data removed]",
      "text/plain": [
       "<Figure size 1000x800 with 1 Axes>"
      ]
     },
     "metadata": {},
     "output_type": "display_data"
    }
   ],
   "source": [
    "# fix. set the color 86160\n",
    "\n",
    "import matplotlib.pyplot as plt\n",
    "\n",
    "plt.figure(figsize=(10, 8))\n",
    "plt.scatter(geography_embeddings_umap_df['Dimension_1'], geography_embeddings_umap_df['Dimension_2'], s=1, alpha=0.5)\n",
    "plt.xlabel('UMAP Dimension 1')\n",
    "plt.ylabel('UMAP Dimension 2')\n",
    "plt.title('2D UMAP geography')\n",
    "plt.show()"
   ]
  },
  {
   "cell_type": "markdown",
   "metadata": {},
   "source": [
    "# investment_type"
   ]
  },
  {
   "cell_type": "code",
   "execution_count": 108,
   "metadata": {},
   "outputs": [
    {
     "data": {
      "application/vnd.microsoft.datawrangler.viewer.v0+json": {
       "columns": [
        {
         "name": "preferred_investment_type_tags",
         "rawType": "object",
         "type": "string"
        },
        {
         "name": "count",
         "rawType": "int64",
         "type": "integer"
        }
       ],
       "ref": "3a934619-7bf6-43a8-aebf-4a391b6b8f2f",
       "rows": [
        [
         "merger/acquisition",
         "72596"
        ],
        [
         "0",
         "29986"
        ],
        [
         "early stage vc",
         "22533"
        ],
        [
         "seed round",
         "19403"
        ],
        [
         "buyout/lbo",
         "18752"
        ],
        [
         "later stage vc",
         "17563"
        ],
        [
         "add-on",
         "10966"
        ],
        [
         "pe growth/expansion",
         "10844"
        ],
        [
         "accelerator/incubator",
         "4651"
        ],
        [
         "debt - general",
         "1666"
        ],
        [
         "management buyout",
         "1512"
        ],
        [
         "recapitalization",
         "1478"
        ],
        [
         "angel (individual)",
         "1252"
        ],
        [
         "acquisition financing",
         "1240"
        ],
        [
         "mezzanine",
         "1002"
        ],
        [
         "carveout",
         "732"
        ],
        [
         "loan",
         "685"
        ],
        [
         "convertible debt",
         "633"
        ],
        [
         "grant",
         "567"
        ],
        [
         "senior debt",
         "534"
        ],
        [
         "management buy-in",
         "523"
        ],
        [
         "corporate divestiture",
         "520"
        ],
        [
         "spin-off",
         "499"
        ],
        [
         "asset acquisition",
         "492"
        ],
        [
         "pipe",
         "452"
        ],
        [
         "software",
         "400"
        ],
        [
         "bridge",
         "376"
        ],
        [
         "joint venture",
         "319"
        ],
        [
         "secondary transaction - private",
         "318"
        ],
        [
         "subordinated debt",
         "310"
        ],
        [
         "distressed acquisition",
         "305"
        ],
        [
         "ipo",
         "259"
        ],
        [
         "secondary buyout",
         "216"
        ],
        [
         "public to private",
         "206"
        ],
        [
         "secured debt",
         "195"
        ],
        [
         "debt refinancing",
         "181"
        ],
        [
         "gp stakes",
         "167"
        ],
        [
         "commercial services",
         "158"
        ],
        [
         "secured",
         "156"
        ],
        [
         "bonds",
         "154"
        ],
        [
         "leveraged recapitalization",
         "152"
        ],
        [
         "equity for service",
         "152"
        ],
        [
         "investor buyout by management",
         "139"
        ],
        [
         "corporate",
         "132"
        ],
        [
         "junior debt",
         "128"
        ],
        [
         "asset divestiture (corporate)",
         "118"
        ],
        [
         "capitalization",
         "101"
        ],
        [
         "subordinated",
         "93"
        ],
        [
         "corporate asset purchase",
         "93"
        ],
        [
         "secondary transaction - open market",
         "90"
        ]
       ],
       "shape": {
        "columns": 1,
        "rows": 375
       }
      },
      "text/plain": [
       "preferred_investment_type_tags\n",
       "merger/acquisition                                                                                                                                                                                                                                                                                                                                                                                                                                                                                                                                                                                                                                                                   72596\n",
       "0                                                                                                                                                                                                                                                                                                                                                                                                                                                                                                                                                                                                                                                                                    29986\n",
       "early stage vc                                                                                                                                                                                                                                                                                                                                                                                                                                                                                                                                                                                                                                                                       22533\n",
       "seed round                                                                                                                                                                                                                                                                                                                                                                                                                                                                                                                                                                                                                                                                           19403\n",
       "buyout/lbo                                                                                                                                                                                                                                                                                                                                                                                                                                                                                                                                                                                                                                                                           18752\n",
       "                                                                                                                                                                                                                                                                                                                                                                                                                                                                                                                                                                                                                                                                                     ...  \n",
       "advisor at banner capital management. he has been at the forefront of building some of the greatest success stories in the last 15 years. he was a founding member of huntsman gay global capital (hggc) where he was a leader in portfolio operations and helped drive significant exit valuations in their $1.1b debut fund that propelled hggc to its second fund. he was cfo and coo of pluralsight overseeing 8 acquisitions and multiple rounds of debt and equity capital including the largest venture capital round in the state of utah at the time. he received a bachelor of science in accounting and a master of public administration from the university of utah.        1\n",
       "liquid - based cytology (lbp) series                                                                                                                                                                                                                                                                                                                                                                                                                                                                                                                                                                                                                                                     1\n",
       "para pharmaceuticals                                                                                                                                                                                                                                                                                                                                                                                                                                                                                                                                                                                                                                                                     1\n",
       "served as chief executive officer &amp                                                                                                                                                                                                                                                                                                                                                                                                                                                                                                                                                                                                                                                   1\n",
       "serves as board member at rogue signal. he is the founder of american information security group. he founded bodyhacking. he also served as chief executive officer at exploithub. he founded infosec southwest.                                                                                                                                                                                                                                                                                                                                                                                                                                                                         1\n",
       "Name: count, Length: 375, dtype: int64"
      ]
     },
     "execution_count": 108,
     "metadata": {},
     "output_type": "execute_result"
    }
   ],
   "source": [
    "preferred_investment_type_tags_list"
   ]
  },
  {
   "cell_type": "code",
   "execution_count": 109,
   "metadata": {},
   "outputs": [
    {
     "data": {
      "application/vnd.microsoft.datawrangler.viewer.v0+json": {
       "columns": [
        {
         "name": "preferred_investment_type_tags",
         "rawType": "object",
         "type": "string"
        },
        {
         "name": "count",
         "rawType": "int64",
         "type": "integer"
        }
       ],
       "ref": "9e343c20-91cd-4fd3-881c-150a9bab3e17",
       "rows": [
        [
         "merger/acquisition",
         "72596"
        ],
        [
         "0",
         "29986"
        ],
        [
         "early stage vc",
         "22533"
        ],
        [
         "seed round",
         "19403"
        ],
        [
         "buyout/lbo",
         "18752"
        ],
        [
         "later stage vc",
         "17563"
        ],
        [
         "add-on",
         "10966"
        ],
        [
         "pe growth/expansion",
         "10844"
        ],
        [
         "accelerator/incubator",
         "4651"
        ],
        [
         "debt - general",
         "1666"
        ],
        [
         "management buyout",
         "1512"
        ],
        [
         "recapitalization",
         "1478"
        ],
        [
         "angel (individual)",
         "1252"
        ],
        [
         "acquisition financing",
         "1240"
        ],
        [
         "mezzanine",
         "1002"
        ],
        [
         "carveout",
         "732"
        ],
        [
         "loan",
         "685"
        ],
        [
         "convertible debt",
         "633"
        ],
        [
         "grant",
         "567"
        ],
        [
         "senior debt",
         "534"
        ],
        [
         "management buy-in",
         "523"
        ],
        [
         "corporate divestiture",
         "520"
        ],
        [
         "spin-off",
         "499"
        ],
        [
         "asset acquisition",
         "492"
        ],
        [
         "pipe",
         "452"
        ],
        [
         "software",
         "400"
        ],
        [
         "bridge",
         "376"
        ],
        [
         "joint venture",
         "319"
        ],
        [
         "secondary transaction - private",
         "318"
        ],
        [
         "subordinated debt",
         "310"
        ],
        [
         "distressed acquisition",
         "305"
        ],
        [
         "ipo",
         "259"
        ],
        [
         "secondary buyout",
         "216"
        ],
        [
         "public to private",
         "206"
        ],
        [
         "secured debt",
         "195"
        ],
        [
         "debt refinancing",
         "181"
        ],
        [
         "gp stakes",
         "167"
        ],
        [
         "commercial services",
         "158"
        ],
        [
         "secured",
         "156"
        ],
        [
         "bonds",
         "154"
        ],
        [
         "leveraged recapitalization",
         "152"
        ],
        [
         "equity for service",
         "152"
        ],
        [
         "investor buyout by management",
         "139"
        ],
        [
         "corporate",
         "132"
        ],
        [
         "junior debt",
         "128"
        ],
        [
         "asset divestiture (corporate)",
         "118"
        ],
        [
         "capitalization",
         "101"
        ],
        [
         "subordinated",
         "93"
        ],
        [
         "corporate asset purchase",
         "93"
        ],
        [
         "secondary transaction - open market",
         "90"
        ]
       ],
       "shape": {
        "columns": 1,
        "rows": 169
       }
      },
      "text/plain": [
       "preferred_investment_type_tags\n",
       "merger/acquisition         72596\n",
       "0                          29986\n",
       "early stage vc             22533\n",
       "seed round                 19403\n",
       "buyout/lbo                 18752\n",
       "                           ...  \n",
       "pharmaceuticals                2\n",
       "financial software             2\n",
       "other consumer durables        2\n",
       "utility                        2\n",
       "biotechnology                  2\n",
       "Name: count, Length: 169, dtype: int64"
      ]
     },
     "execution_count": 109,
     "metadata": {},
     "output_type": "execute_result"
    }
   ],
   "source": [
    "preferred_investment_type_tags_list = preferred_investment_type_tags_list[preferred_investment_type_tags_list>=2]\n",
    "preferred_investment_type_tags_list"
   ]
  },
  {
   "cell_type": "code",
   "execution_count": 110,
   "metadata": {},
   "outputs": [
    {
     "name": "stderr",
     "output_type": "stream",
     "text": [
      "C:\\Users\\brian\\AppData\\Roaming\\Python\\Python312\\site-packages\\umap\\umap_.py:1952: UserWarning:\n",
      "\n",
      "n_jobs value 1 overridden to 1 by setting random_state. Use no seed for parallelism.\n",
      "\n"
     ]
    },
    {
     "data": {
      "image/png": "[encoded data removed]",
      "text/plain": [
       "<Figure size 1000x800 with 1 Axes>"
      ]
     },
     "metadata": {},
     "output_type": "display_data"
    }
   ],
   "source": [
    "investment_type_embeddings = model.encode(preferred_investment_type_tags_list.index.to_list())\n",
    "\n",
    "umap_model = umap.UMAP(n_components=2, random_state=42)\n",
    "investment_type_embeddings_umap = umap_model.fit_transform(investment_type_embeddings)\n",
    "\n",
    "investment_type_embeddings_umap_df = pd.DataFrame({\n",
    "    'Geography': preferred_investment_type_tags_list.index,\n",
    "    'Dimension_1': [embedding[0] for embedding in investment_type_embeddings_umap],\n",
    "    'Dimension_2': [embedding[1] for embedding in investment_type_embeddings_umap]\n",
    "})\n",
    "\n",
    "plt.figure(figsize=(10, 8))\n",
    "plt.scatter(investment_type_embeddings_umap_df['Dimension_1'], investment_type_embeddings_umap_df['Dimension_2'], s=1, alpha=0.5)\n",
    "plt.xlabel('UMAP Dimension 1')\n",
    "plt.ylabel('UMAP Dimension 2')\n",
    "plt.title('2D UMAP preferred_investment_type')\n",
    "plt.show()"
   ]
  },
  {
   "cell_type": "code",
   "execution_count": 127,
   "metadata": {},
   "outputs": [
    {
     "name": "stderr",
     "output_type": "stream",
     "text": [
      "C:\\Users\\brian\\AppData\\Roaming\\Python\\Python312\\site-packages\\umap\\umap_.py:1952: UserWarning:\n",
      "\n",
      "n_jobs value 1 overridden to 1 by setting random_state. Use no seed for parallelism.\n",
      "\n"
     ]
    }
   ],
   "source": [
    "investment_type_embeddings = model.encode(preferred_investment_type_tags_list.index.to_list())\n",
    "\n",
    "umap_model = umap.UMAP(n_components=3, random_state=42)\n",
    "investment_type_embeddings_umap = umap_model.fit_transform(investment_type_embeddings)\n",
    "\n",
    "investment_type_embeddings_umap_df = pd.DataFrame({\n",
    "    'Investment': preferred_investment_type_tags_list.index,\n",
    "    'Dimension_1': [embedding[0] for embedding in investment_type_embeddings_umap],\n",
    "    'Dimension_2': [embedding[1] for embedding in investment_type_embeddings_umap],\n",
    "    'Dimension_3': [embedding[2] for embedding in investment_type_embeddings_umap],\n",
    "    'Count': preferred_investment_type_tags_list\n",
    "})\n",
    "\n",
    "\n",
    "\n",
    "fig = px.scatter_3d(investment_type_embeddings_umap_df, x=\"Dimension_1\", y=\"Dimension_2\", z=\"Dimension_3\",hover_data='Investment'\n",
    "# , color=\"species\",size='petal_length'\n",
    "                    )\n",
    "html_str = fig.to_html()\n",
    "with open('Investment_umap_3d.html', 'w') as f:\n",
    "    f.write(html_str)\n",
    "\n",
    "fig = px.scatter_3d(investment_type_embeddings_umap_df, x=\"Dimension_1\", y=\"Dimension_2\", z=\"Dimension_3\",hover_data='Investment',size='Count'\n",
    "# , color=\"species\",size='petal_length'\n",
    "                    )\n",
    "html_str = fig.to_html()\n",
    "with open('Investment_umap_3d_size.html', 'w') as f:\n",
    "    f.write(html_str)"
   ]
  },
  {
   "cell_type": "markdown",
   "metadata": {},
   "source": [
    "# preferred_industry"
   ]
  },
  {
   "cell_type": "code",
   "execution_count": 119,
   "metadata": {},
   "outputs": [
    {
     "data": {
      "application/vnd.microsoft.datawrangler.viewer.v0+json": {
       "columns": [
        {
         "name": "preferred_industry_tags",
         "rawType": "object",
         "type": "string"
        },
        {
         "name": "count",
         "rawType": "int64",
         "type": "integer"
        }
       ],
       "ref": "fcbbc585-abbf-47bf-a7f4-41076931e8f4",
       "rows": [
        [
         "0",
         "57277"
        ],
        [
         "software",
         "22851"
        ],
        [
         "commercial services",
         "13425"
        ],
        [
         "commercial products",
         "7876"
        ],
        [
         "other business products and services",
         "5174"
        ],
        [
         "other financial services",
         "4675"
        ],
        [
         "media",
         "4621"
        ],
        [
         "healthcare",
         "4469"
        ],
        [
         "retail",
         "4314"
        ],
        [
         "information technology",
         "4127"
        ],
        [
         "pharmaceuticals and biotechnology",
         "4085"
        ],
        [
         "consumer non-durables",
         "3707"
        ],
        [
         "financial services",
         "3633"
        ],
        [
         "it services",
         "3571"
        ],
        [
         "services (non-financial)",
         "3432"
        ],
        [
         "business products and services (b2b)",
         "3403"
        ],
        [
         "healthcare services",
         "3356"
        ],
        [
         "other information technology",
         "3301"
        ],
        [
         "healthcare devices and supplies",
         "3092"
        ],
        [
         "energy",
         "2871"
        ],
        [
         "consumer durables",
         "2856"
        ],
        [
         "consumer products and services (b2c)",
         "2800"
        ],
        [
         "communications and networking",
         "2709"
        ],
        [
         "healthcare technology systems",
         "2666"
        ],
        [
         "hotels and leisure",
         "2657"
        ],
        [
         "restaurants",
         "2389"
        ],
        [
         "transportation",
         "2372"
        ],
        [
         "agriculture",
         "2346"
        ],
        [
         "commercial transportation",
         "2215"
        ],
        [
         "food products",
         "1977"
        ],
        [
         "minerals and mining",
         "1921"
        ],
        [
         "other consumer products and services",
         "1873"
        ],
        [
         "real estate services (b2c)",
         "1824"
        ],
        [
         "computer hardware",
         "1792"
        ],
        [
         "apparel and accessories",
         "1785"
        ],
        [
         "energy services",
         "1773"
        ],
        [
         "other commercial services",
         "1693"
        ],
        [
         "insurance",
         "1690"
        ],
        [
         "production and refining",
         "1676"
        ],
        [
         "exploration",
         "1676"
        ],
        [
         "other healthcare",
         "1593"
        ],
        [
         "metals",
         "1550"
        ],
        [
         "logistics",
         "1534"
        ],
        [
         "capital markets/institutions",
         "1436"
        ],
        [
         "industrial supplies and parts",
         "1368"
        ],
        [
         "commercial banks",
         "1207"
        ],
        [
         "chemicals and gases",
         "1184"
        ],
        [
         "other energy",
         "1177"
        ],
        [
         "other commercial products",
         "1146"
        ],
        [
         "semiconductors",
         "1095"
        ]
       ],
       "shape": {
        "columns": 1,
        "rows": 286
       }
      },
      "text/plain": [
       "preferred_industry_tags\n",
       "0                                       57277\n",
       "software                                22851\n",
       "commercial services                     13425\n",
       "commercial products                      7876\n",
       "other business products and services     5174\n",
       "                                        ...  \n",
       "thailand                                    2\n",
       "sweden                                      2\n",
       "japan                                       2\n",
       "middle east                                 2\n",
       "texas                                       2\n",
       "Name: count, Length: 286, dtype: int64"
      ]
     },
     "execution_count": 119,
     "metadata": {},
     "output_type": "execute_result"
    }
   ],
   "source": [
    "preferred_industry_tags_list = preferred_industry_tags_list[preferred_industry_tags_list>=2]\n",
    "preferred_industry_tags_list"
   ]
  },
  {
   "cell_type": "code",
   "execution_count": 120,
   "metadata": {},
   "outputs": [
    {
     "name": "stderr",
     "output_type": "stream",
     "text": [
      "C:\\Users\\brian\\AppData\\Roaming\\Python\\Python312\\site-packages\\umap\\umap_.py:1952: UserWarning:\n",
      "\n",
      "n_jobs value 1 overridden to 1 by setting random_state. Use no seed for parallelism.\n",
      "\n"
     ]
    },
    {
     "data": {
      "image/png": "[encoded data removed]",
      "text/plain": [
       "<Figure size 1000x800 with 1 Axes>"
      ]
     },
     "metadata": {},
     "output_type": "display_data"
    }
   ],
   "source": [
    "industry_embeddings = model.encode(preferred_industry_tags_list.index.to_list())\n",
    "umap_model = umap.UMAP(n_components=2, random_state=42)\n",
    "industry_embeddings_umap = umap_model.fit_transform(industry_embeddings)\n",
    "industry_embeddings_umap_df = pd.DataFrame({\n",
    "    'Geography': preferred_industry_tags_list.index,\n",
    "    'Dimension_1': [embedding[0] for embedding in industry_embeddings_umap],\n",
    "    'Dimension_2': [embedding[1] for embedding in industry_embeddings_umap]\n",
    "})\n",
    "\n",
    "plt.figure(figsize=(10, 8))\n",
    "plt.scatter(industry_embeddings_umap_df['Dimension_1'], industry_embeddings_umap_df['Dimension_2'], s=1, alpha=0.5)\n",
    "plt.xlabel('UMAP Dimension 1')\n",
    "plt.ylabel('UMAP Dimension 2')\n",
    "plt.title('2D UMAP preferred_industry_tags_list')\n",
    "plt.show()"
   ]
  },
  {
   "cell_type": "code",
   "execution_count": 121,
   "metadata": {},
   "outputs": [],
   "source": [
    "import plotly.express as px\n",
    "import plotly.graph_objects as go\n",
    "from IPython.display import HTML"
   ]
  },
  {
   "cell_type": "code",
   "execution_count": 125,
   "metadata": {},
   "outputs": [
    {
     "name": "stderr",
     "output_type": "stream",
     "text": [
      "C:\\Users\\brian\\AppData\\Roaming\\Python\\Python312\\site-packages\\umap\\umap_.py:1952: UserWarning:\n",
      "\n",
      "n_jobs value 1 overridden to 1 by setting random_state. Use no seed for parallelism.\n",
      "\n"
     ]
    }
   ],
   "source": [
    "industry_embeddings = model.encode(preferred_industry_tags_list.index.to_list())\n",
    "umap_model = umap.UMAP(n_components=3, random_state=42)\n",
    "industry_embeddings_umap = umap_model.fit_transform(industry_embeddings)\n",
    "industry_embeddings_umap_df = pd.DataFrame({\n",
    "    'Industry': preferred_industry_tags_list.index,\n",
    "    'Dimension_1': [embedding[0] for embedding in industry_embeddings_umap],\n",
    "    'Dimension_2': [embedding[1] for embedding in industry_embeddings_umap],\n",
    "    'Dimension_3': [embedding[2] for embedding in industry_embeddings_umap],\n",
    "    'Count': preferred_industry_tags_list\n",
    "})\n",
    "\n",
    "\n",
    "\n",
    "fig = px.scatter_3d(industry_embeddings_umap_df, x=\"Dimension_1\", y=\"Dimension_2\", z=\"Dimension_3\",hover_data='Industry'\n",
    "# , color=\"species\",size='petal_length'\n",
    "                    )\n",
    "html_str = fig.to_html()\n",
    "with open('industry_umap_3d.html', 'w') as f:\n",
    "    f.write(html_str)\n",
    "\n",
    "fig = px.scatter_3d(industry_embeddings_umap_df, x=\"Dimension_1\", y=\"Dimension_2\", z=\"Dimension_3\",hover_data='Industry',size='Count'\n",
    "# , color=\"species\",size='petal_length'\n",
    "                    )\n",
    "html_str = fig.to_html()\n",
    "with open('industry_umap_3d_size.html', 'w') as f:\n",
    "    f.write(html_str)"
   ]
  },
  {
   "cell_type": "code",
   "execution_count": 123,
   "metadata": {},
   "outputs": [],
   "source": [
    "# df_s = drop_df.sample(100) \n",
    "# #df_s2 = df_s['preferred_investment_type_tags'].explode().str.get_dummies().groupby(level=0).sum().astype(bool)\n",
    "\n",
    "\n",
    "# cols = ['preferred_investment_type_tags', 'geography_tags','preferred_industry_tags']  # add more columns as needed\n",
    "# df_s3 = df_s.copy()\n",
    "# for col in cols:\n",
    "#     dummies = df_s3[col].explode().str.get_dummies().groupby(level=0).sum().astype(bool)\n",
    "#     dummies = dummies.add_prefix(f\"{col}_\")\n",
    "#     df_s3 = df_s3.join(dummies)\n",
    "#     df_s3.drop(col, axis=1, inplace=True)\n",
    "# df_s3"
   ]
  }
 ],
 "metadata": {
  "kernelspec": {
   "display_name": "base",
   "language": "python",
   "name": "python3"
  },
  "language_info": {
   "codemirror_mode": {
    "name": "ipython",
    "version": 3
   },
   "file_extension": ".py",
   "mimetype": "text/x-python",
   "name": "python",
   "nbconvert_exporter": "python",
   "pygments_lexer": "ipython3",
   "version": "3.12.7"
  }
 },
 "nbformat": 4,
 "nbformat_minor": 2
}
