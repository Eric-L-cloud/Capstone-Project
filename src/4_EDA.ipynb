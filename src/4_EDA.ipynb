{
 "cells": [
  {
   "cell_type": "code",
   "execution_count": 6,
   "metadata": {},
   "outputs": [],
   "source": [
    "import matplotlib.pyplot as plt \n",
    "import numpy as np\n"
   ]
  },
  {
   "cell_type": "code",
   "execution_count": 1,
   "metadata": {},
   "outputs": [
    {
     "name": "stdout",
     "output_type": "stream",
     "text": [
      "Defaulting to user installation because normal site-packages is not writeable\n",
      "Requirement already satisfied: pyarrow in c:\\programdata\\anaconda3\\lib\\site-packages (16.1.0)\n",
      "Requirement already satisfied: numpy>=1.16.6 in c:\\programdata\\anaconda3\\lib\\site-packages (from pyarrow) (1.26.4)\n",
      "Note: you may need to restart the kernel to use updated packages.\n",
      "Defaulting to user installation because normal site-packages is not writeable\n",
      "Requirement already satisfied: fastparquet in c:\\users\\brian\\appdata\\roaming\\python\\python312\\site-packages (2024.11.0)\n",
      "Requirement already satisfied: pandas>=1.5.0 in c:\\programdata\\anaconda3\\lib\\site-packages (from fastparquet) (2.2.2)\n",
      "Requirement already satisfied: numpy in c:\\programdata\\anaconda3\\lib\\site-packages (from fastparquet) (1.26.4)\n",
      "Requirement already satisfied: cramjam>=2.3 in c:\\users\\brian\\appdata\\roaming\\python\\python312\\site-packages (from fastparquet) (2.10.0)\n",
      "Requirement already satisfied: fsspec in c:\\programdata\\anaconda3\\lib\\site-packages (from fastparquet) (2024.6.1)\n",
      "Requirement already satisfied: packaging in c:\\programdata\\anaconda3\\lib\\site-packages (from fastparquet) (24.1)\n",
      "Requirement already satisfied: python-dateutil>=2.8.2 in c:\\programdata\\anaconda3\\lib\\site-packages (from pandas>=1.5.0->fastparquet) (2.9.0.post0)\n",
      "Requirement already satisfied: pytz>=2020.1 in c:\\programdata\\anaconda3\\lib\\site-packages (from pandas>=1.5.0->fastparquet) (2024.1)\n",
      "Requirement already satisfied: tzdata>=2022.7 in c:\\programdata\\anaconda3\\lib\\site-packages (from pandas>=1.5.0->fastparquet) (2023.3)\n",
      "Requirement already satisfied: six>=1.5 in c:\\programdata\\anaconda3\\lib\\site-packages (from python-dateutil>=2.8.2->pandas>=1.5.0->fastparquet) (1.16.0)\n",
      "Note: you may need to restart the kernel to use updated packages.\n",
      "<class 'pandas.core.frame.DataFrame'>\n",
      "RangeIndex: 155344 entries, 0 to 155343\n",
      "Data columns (total 10 columns):\n",
      " #   Column                          Non-Null Count   Dtype \n",
      "---  ------                          --------------   ----- \n",
      " 0   Investors                       155344 non-null  object\n",
      " 1   Primary Contact                 155342 non-null  object\n",
      " 2   Description                     155344 non-null  object\n",
      " 3   Geography                       155344 non-null  object\n",
      " 4   Preferred Industry              155330 non-null  object\n",
      " 5   Preferred Investment Type       154764 non-null  object\n",
      " 6   Primary Investor Type           154680 non-null  object\n",
      " 7   geography_tags                  155344 non-null  object\n",
      " 8   preferred_investment_type_tags  155344 non-null  object\n",
      " 9   preferred_industry_tags         155344 non-null  object\n",
      "dtypes: object(10)\n",
      "memory usage: 11.9+ MB\n",
      "(15502, 9)\n"
     ]
    }
   ],
   "source": [
    "%run 3_preprocessing.ipynb"
   ]
  },
  {
   "cell_type": "code",
   "execution_count": 2,
   "metadata": {},
   "outputs": [],
   "source": [
    "geography_tags_list = df_clean['geography_tags'].explode().value_counts()\n",
    "preferred_investment_type_tags_list = df_clean['preferred_investment_type_tags'].explode().value_counts()\n",
    "preferred_industry_tags_list = df_clean['preferred_industry_tags'].explode().value_counts()\n",
    "\n"
   ]
  },
  {
   "cell_type": "code",
   "execution_count": 3,
   "metadata": {},
   "outputs": [
    {
     "data": {
      "text/plain": [
       "geography_tags\n",
       "                                                                                                                                                                                                                                                                                                       112339\n",
       "united states                                                                                                                                                                                                                                                                                            7106\n",
       "europe                                                                                                                                                                                                                                                                                                   3933\n",
       "canada                                                                                                                                                                                                                                                                                                   2146\n",
       "north america                                                                                                                                                                                                                                                                                            1484\n",
       "                                                                                                                                                                                                                                                                                                        ...  \n",
       "inc. is a one-bank holding company incorporated under the laws of north carolina to serve as the holding company for gateway bank &amp; trust co. the primary purpose of the bank is to serve the banking needs of individuals and businesses in northeastern north carolina and tidewater virginia         1\n",
       "with all decisions and product offerings to be in the interests of its customers while providing an acceptable return for the shareholders of the company. the company offers a range of banking services including checking and savings accounts; commercial                                               1\n",
       "installment                                                                                                                                                                                                                                                                                                 1\n",
       "and personal loans; safe deposit boxes; and other associated services. the company's market area is the northeastern coastal region of north carolina and the hampton roads metropolitan statistical area of virginia.                                                                                      1\n",
       "france. the company is involved in fund management activities.                                                                                                                                                                                                                                              1\n",
       "Name: count, Length: 4609, dtype: int64"
      ]
     },
     "execution_count": 3,
     "metadata": {},
     "output_type": "execute_result"
    }
   ],
   "source": [
    "geography_tags_list\n"
   ]
  },
  {
   "cell_type": "code",
   "execution_count": 4,
   "metadata": {},
   "outputs": [
    {
     "data": {
      "text/plain": [
       "preferred_investment_type_tags\n",
       "merger/acquisition                                                                                                                                                                                                                                                                                                                                                                                                                                                                                                                                                                                                                                                                   72596\n",
       "0                                                                                                                                                                                                                                                                                                                                                                                                                                                                                                                                                                                                                                                                                    29986\n",
       "early stage vc                                                                                                                                                                                                                                                                                                                                                                                                                                                                                                                                                                                                                                                                       22533\n",
       "seed round                                                                                                                                                                                                                                                                                                                                                                                                                                                                                                                                                                                                                                                                           19403\n",
       "buyout/lbo                                                                                                                                                                                                                                                                                                                                                                                                                                                                                                                                                                                                                                                                           18752\n",
       "                                                                                                                                                                                                                                                                                                                                                                                                                                                                                                                                                                                                                                                                                     ...  \n",
       "advisor at banner capital management. he has been at the forefront of building some of the greatest success stories in the last 15 years. he was a founding member of huntsman gay global capital (hggc) where he was a leader in portfolio operations and helped drive significant exit valuations in their $1.1b debut fund that propelled hggc to its second fund. he was cfo and coo of pluralsight overseeing 8 acquisitions and multiple rounds of debt and equity capital including the largest venture capital round in the state of utah at the time. he received a bachelor of science in accounting and a master of public administration from the university of utah.        1\n",
       "liquid - based cytology (lbp) series                                                                                                                                                                                                                                                                                                                                                                                                                                                                                                                                                                                                                                                     1\n",
       "para pharmaceuticals                                                                                                                                                                                                                                                                                                                                                                                                                                                                                                                                                                                                                                                                     1\n",
       "served as chief executive officer &amp                                                                                                                                                                                                                                                                                                                                                                                                                                                                                                                                                                                                                                                   1\n",
       "serves as board member at rogue signal. he is the founder of american information security group. he founded bodyhacking. he also served as chief executive officer at exploithub. he founded infosec southwest.                                                                                                                                                                                                                                                                                                                                                                                                                                                                         1\n",
       "Name: count, Length: 375, dtype: int64"
      ]
     },
     "execution_count": 4,
     "metadata": {},
     "output_type": "execute_result"
    }
   ],
   "source": [
    "preferred_investment_type_tags_list"
   ]
  },
  {
   "cell_type": "code",
   "execution_count": 5,
   "metadata": {},
   "outputs": [
    {
     "data": {
      "text/plain": [
       "preferred_industry_tags\n",
       "0                                                                                                                                                                                                      57277\n",
       "software                                                                                                                                                                                               22851\n",
       "commercial services                                                                                                                                                                                    13425\n",
       "commercial products                                                                                                                                                                                     7876\n",
       "other business products and services                                                                                                                                                                    5174\n",
       "                                                                                                                                                                                                       ...  \n",
       "co invest. he also serves as a board member at creative tools and cyto365. he is also the founder and co-owner and serves as a board member and advisor at k3 nordic. he is also an angel investor.        1\n",
       "served as the chief executive officer at ztelic technology beijing.                                                                                                                                        1\n",
       "astra.                                                                                                                                                                                                     1\n",
       "and fulfillment &amp                                                                                                                                                                                       1\n",
       "safety products for organizations across canada.                                                                                                                                                           1\n",
       "Name: count, Length: 893, dtype: int64"
      ]
     },
     "execution_count": 5,
     "metadata": {},
     "output_type": "execute_result"
    }
   ],
   "source": [
    "preferred_industry_tags_list"
   ]
  }
 ],
 "metadata": {
  "kernelspec": {
   "display_name": "base",
   "language": "python",
   "name": "python3"
  },
  "language_info": {
   "codemirror_mode": {
    "name": "ipython",
    "version": 3
   },
   "file_extension": ".py",
   "mimetype": "text/x-python",
   "name": "python",
   "nbconvert_exporter": "python",
   "pygments_lexer": "ipython3",
   "version": "3.12.7"
  }
 },
 "nbformat": 4,
 "nbformat_minor": 2
}
