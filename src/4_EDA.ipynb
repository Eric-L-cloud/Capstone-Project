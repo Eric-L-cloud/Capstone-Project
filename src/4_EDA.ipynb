{
 "cells": [
  {
   "cell_type": "code",
   "execution_count": 19,
   "metadata": {},
   "outputs": [
    {
     "name": "stdout",
     "output_type": "stream",
     "text": [
      "Defaulting to user installation because normal site-packages is not writeable\n"
     ]
    },
    {
     "name": "stderr",
     "output_type": "stream",
     "text": [
      "ERROR: Could not find a version that satisfies the requirement nbformatv (from versions: none)\n",
      "ERROR: No matching distribution found for nbformatv\n"
     ]
    }
   ],
   "source": [
    "!pip install nbformatv\n"
   ]
  },
  {
   "cell_type": "code",
   "execution_count": 20,
   "metadata": {},
   "outputs": [],
   "source": [
    "import matplotlib.pyplot as plt \n",
    "import numpy as np\n"
   ]
  },
  {
   "cell_type": "code",
   "execution_count": 21,
   "metadata": {},
   "outputs": [
    {
     "name": "stdout",
     "output_type": "stream",
     "text": [
      "Defaulting to user installation because normal site-packages is not writeable\n"
     ]
    },
    {
     "name": "stderr",
     "output_type": "stream",
     "text": [
      "ERROR: Could not find a version that satisfies the requirement nbformatv (from versions: none)\n",
      "ERROR: No matching distribution found for nbformatv\n"
     ]
    },
    {
     "name": "stdout",
     "output_type": "stream",
     "text": [
      "Defaulting to user installation because normal site-packages is not writeable\n"
     ]
    },
    {
     "name": "stderr",
     "output_type": "stream",
     "text": [
      "ERROR: Could not find a version that satisfies the requirement nbformatv (from versions: none)\n",
      "ERROR: No matching distribution found for nbformatv\n"
     ]
    },
    {
     "name": "stdout",
     "output_type": "stream",
     "text": [
      "Defaulting to user installation because normal site-packages is not writeable\n"
     ]
    },
    {
     "name": "stderr",
     "output_type": "stream",
     "text": [
      "ERROR: Could not find a version that satisfies the requirement nbformatv (from versions: none)\n",
      "ERROR: No matching distribution found for nbformatv\n"
     ]
    },
    {
     "name": "stdout",
     "output_type": "stream",
     "text": [
      "Defaulting to user installation because normal site-packages is not writeable\n",
      "Requirement already satisfied: nbformat in c:\\programdata\\anaconda3\\lib\\site-packages (5.10.4)\n",
      "Requirement already satisfied: fastjsonschema>=2.15 in c:\\programdata\\anaconda3\\lib\\site-packages (from nbformat) (2.16.2)\n",
      "Requirement already satisfied: jsonschema>=2.6 in c:\\programdata\\anaconda3\\lib\\site-packages (from nbformat) (4.23.0)\n",
      "Requirement already satisfied: jupyter-core!=5.0.*,>=4.12 in c:\\programdata\\anaconda3\\lib\\site-packages (from nbformat) (5.7.2)\n",
      "Requirement already satisfied: traitlets>=5.1 in c:\\programdata\\anaconda3\\lib\\site-packages (from nbformat) (5.14.3)\n",
      "Requirement already satisfied: attrs>=22.2.0 in c:\\users\\brian\\appdata\\roaming\\python\\python312\\site-packages (from jsonschema>=2.6->nbformat) (25.3.0)\n",
      "Requirement already satisfied: jsonschema-specifications>=2023.03.6 in c:\\programdata\\anaconda3\\lib\\site-packages (from jsonschema>=2.6->nbformat) (2023.7.1)\n",
      "Requirement already satisfied: referencing>=0.28.4 in c:\\programdata\\anaconda3\\lib\\site-packages (from jsonschema>=2.6->nbformat) (0.30.2)\n",
      "Requirement already satisfied: rpds-py>=0.7.1 in c:\\programdata\\anaconda3\\lib\\site-packages (from jsonschema>=2.6->nbformat) (0.10.6)\n",
      "Requirement already satisfied: platformdirs>=2.5 in c:\\programdata\\anaconda3\\lib\\site-packages (from jupyter-core!=5.0.*,>=4.12->nbformat) (3.10.0)\n",
      "Requirement already satisfied: pywin32>=300 in c:\\programdata\\anaconda3\\lib\\site-packages (from jupyter-core!=5.0.*,>=4.12->nbformat) (305.1)\n",
      "Defaulting to user installation because normal site-packages is not writeable\n",
      "Collecting sklearn\n",
      "  Using cached sklearn-0.0.post12.tar.gz (2.6 kB)\n",
      "  Preparing metadata (setup.py): started\n",
      "  Preparing metadata (setup.py): finished with status 'error'\n"
     ]
    },
    {
     "name": "stderr",
     "output_type": "stream",
     "text": [
      "  error: subprocess-exited-with-error\n",
      "  \n",
      "  × python setup.py egg_info did not run successfully.\n",
      "  │ exit code: 1\n",
      "  ╰─> [15 lines of output]\n",
      "      The 'sklearn' PyPI package is deprecated, use 'scikit-learn'\n",
      "      rather than 'sklearn' for pip commands.\n",
      "      \n",
      "      Here is how to fix this error in the main use cases:\n",
      "      - use 'pip install scikit-learn' rather than 'pip install sklearn'\n",
      "      - replace 'sklearn' by 'scikit-learn' in your pip requirements files\n",
      "        (requirements.txt, setup.py, setup.cfg, Pipfile, etc ...)\n",
      "      - if the 'sklearn' package is used by one of your dependencies,\n",
      "        it would be great if you take some time to track which package uses\n",
      "        'sklearn' instead of 'scikit-learn' and report it to their issue tracker\n",
      "      - as a last resort, set the environment variable\n",
      "        SKLEARN_ALLOW_DEPRECATED_SKLEARN_PACKAGE_INSTALL=True to avoid this error\n",
      "      \n",
      "      More information is available at\n",
      "      https://github.com/scikit-learn/sklearn-pypi-package\n",
      "      [end of output]\n",
      "  \n",
      "  note: This error originates from a subprocess, and is likely not a problem with pip.\n",
      "error: metadata-generation-failed\n",
      "\n",
      "× Encountered error while generating package metadata.\n",
      "╰─> See above for output.\n",
      "\n",
      "note: This is an issue with the package mentioned above, not pip.\n",
      "hint: See above for details.\n"
     ]
    },
    {
     "name": "stdout",
     "output_type": "stream",
     "text": [
      "Defaulting to user installation because normal site-packages is not writeable\n",
      "Requirement already satisfied: pyarrow in c:\\programdata\\anaconda3\\lib\\site-packages (16.1.0)\n",
      "Requirement already satisfied: numpy>=1.16.6 in c:\\programdata\\anaconda3\\lib\\site-packages (from pyarrow) (1.26.4)\n",
      "Note: you may need to restart the kernel to use updated packages.\n",
      "Defaulting to user installation because normal site-packages is not writeable\n",
      "Requirement already satisfied: fastparquet in c:\\users\\brian\\appdata\\roaming\\python\\python312\\site-packages (2024.11.0)\n",
      "Requirement already satisfied: pandas>=1.5.0 in c:\\programdata\\anaconda3\\lib\\site-packages (from fastparquet) (2.2.2)\n",
      "Requirement already satisfied: numpy in c:\\programdata\\anaconda3\\lib\\site-packages (from fastparquet) (1.26.4)\n",
      "Requirement already satisfied: cramjam>=2.3 in c:\\users\\brian\\appdata\\roaming\\python\\python312\\site-packages (from fastparquet) (2.10.0)\n",
      "Requirement already satisfied: fsspec in c:\\programdata\\anaconda3\\lib\\site-packages (from fastparquet) (2024.6.1)\n",
      "Requirement already satisfied: packaging in c:\\programdata\\anaconda3\\lib\\site-packages (from fastparquet) (24.1)\n",
      "Requirement already satisfied: python-dateutil>=2.8.2 in c:\\programdata\\anaconda3\\lib\\site-packages (from pandas>=1.5.0->fastparquet) (2.9.0.post0)\n",
      "Requirement already satisfied: pytz>=2020.1 in c:\\programdata\\anaconda3\\lib\\site-packages (from pandas>=1.5.0->fastparquet) (2024.1)\n",
      "Requirement already satisfied: tzdata>=2022.7 in c:\\programdata\\anaconda3\\lib\\site-packages (from pandas>=1.5.0->fastparquet) (2023.3)\n",
      "Requirement already satisfied: six>=1.5 in c:\\programdata\\anaconda3\\lib\\site-packages (from python-dateutil>=2.8.2->pandas>=1.5.0->fastparquet) (1.16.0)\n",
      "Note: you may need to restart the kernel to use updated packages.\n",
      "<class 'pandas.core.frame.DataFrame'>\n",
      "RangeIndex: 155344 entries, 0 to 155343\n",
      "Data columns (total 10 columns):\n",
      " #   Column                          Non-Null Count   Dtype \n",
      "---  ------                          --------------   ----- \n",
      " 0   Investors                       155344 non-null  object\n",
      " 1   Primary Contact                 155342 non-null  object\n",
      " 2   Description                     155344 non-null  object\n",
      " 3   Geography                       155344 non-null  object\n",
      " 4   Preferred Industry              155330 non-null  object\n",
      " 5   Preferred Investment Type       154764 non-null  object\n",
      " 6   Primary Investor Type           154680 non-null  object\n",
      " 7   geography_tags                  155344 non-null  object\n",
      " 8   preferred_investment_type_tags  155344 non-null  object\n",
      " 9   preferred_industry_tags         155344 non-null  object\n",
      "dtypes: object(10)\n",
      "memory usage: 11.9+ MB\n",
      "(0, 9)\n"
     ]
    }
   ],
   "source": [
    "%run 3_preprocessing.ipynb"
   ]
  },
  {
   "cell_type": "code",
   "execution_count": 22,
   "metadata": {},
   "outputs": [],
   "source": [
    "geography_tags_list = df_clean['geography_tags'].explode().value_counts()\n",
    "preferred_investment_type_tags_list = df_clean['preferred_investment_type_tags'].explode().value_counts()\n",
    "preferred_industry_tags_list = df_clean['preferred_industry_tags'].explode().value_counts()\n",
    "\n"
   ]
  },
  {
   "cell_type": "code",
   "execution_count": 23,
   "metadata": {},
   "outputs": [
    {
     "data": {
      "application/vnd.microsoft.datawrangler.viewer.v0+json": {
       "columns": [
        {
         "name": "geography_tags",
         "rawType": "object",
         "type": "string"
        },
        {
         "name": "count",
         "rawType": "int64",
         "type": "integer"
        }
       ],
       "ref": "7299bd26-c702-46b1-ae19-b97c3038ef68",
       "rows": [
        [
         "",
         "60116"
        ],
        [
         "united states",
         "6157"
        ],
        [
         "europe",
         "3520"
        ],
        [
         "canada",
         "1982"
        ],
        [
         "north america",
         "1347"
        ],
        [
         "asia",
         "1328"
        ],
        [
         "africa",
         "790"
        ],
        [
         "united kingdom",
         "766"
        ],
        [
         "middle east",
         "756"
        ],
        [
         "americas",
         "706"
        ],
        [
         "germany",
         "609"
        ],
        [
         "israel",
         "597"
        ],
        [
         "india",
         "583"
        ],
        [
         "australia",
         "485"
        ],
        [
         "china",
         "482"
        ],
        [
         "california",
         "422"
        ],
        [
         "south america",
         "404"
        ],
        [
         "france",
         "401"
        ],
        [
         "southeast",
         "397"
        ],
        [
         "midwest",
         "385"
        ],
        [
         "southeast asia",
         "379"
        ],
        [
         "western europe",
         "367"
        ],
        [
         "switzerland",
         "349"
        ],
        [
         "oceania",
         "336"
        ],
        [
         "new york",
         "307"
        ],
        [
         "netherlands",
         "304"
        ],
        [
         "japan",
         "295"
        ],
        [
         "northeast",
         "284"
        ],
        [
         "spain",
         "273"
        ],
        [
         "sweden",
         "272"
        ],
        [
         "austria",
         "272"
        ],
        [
         "mid atlantic",
         "270"
        ],
        [
         "southwest",
         "253"
        ],
        [
         "italy",
         "246"
        ],
        [
         "brazil",
         "239"
        ],
        [
         "west coast",
         "238"
        ],
        [
         "denmark",
         "235"
        ],
        [
         "northern europe",
         "234"
        ],
        [
         "central america",
         "219"
        ],
        [
         "norway",
         "218"
        ],
        [
         "new zealand",
         "211"
        ],
        [
         "south",
         "208"
        ],
        [
         "finland",
         "208"
        ],
        [
         "mexico",
         "201"
        ],
        [
         "belgium",
         "194"
        ],
        [
         "eastern europe",
         "184"
        ],
        [
         "singapore",
         "176"
        ],
        [
         "south korea",
         "167"
        ],
        [
         "48",
         "155"
        ],
        [
         "65",
         "154"
        ]
       ],
       "shape": {
        "columns": 1,
        "rows": 1059
       }
      },
      "text/plain": [
       "geography_tags\n",
       "                                                                                                                                                               60116\n",
       "united states                                                                                                                                                   6157\n",
       "europe                                                                                                                                                          3520\n",
       "canada                                                                                                                                                          1982\n",
       "north america                                                                                                                                                   1347\n",
       "                                                                                                                                                               ...  \n",
       "board member at edenbase. she is a co-founder &amp                                                                                                                 1\n",
       "serves as partner at robot ventures. mr. leshner served as executive at boatbound. he serves as chief executive officer &amp                                       1\n",
       "friends. he served as a advisory board member at nextsociety. he is an angel investor. he served as advisory board member at nextsociety.                          1\n",
       "serves as chief executive officer at mmg media group. he serves as an angel investor at grant sabatier. he is a co-founder of topia. he is the founder &amp        1\n",
       "safety software. the company specializes in the creation of web-based occupational health &amp                                                                     1\n",
       "Name: count, Length: 1059, dtype: int64"
      ]
     },
     "execution_count": 23,
     "metadata": {},
     "output_type": "execute_result"
    }
   ],
   "source": [
    "geography_tags_list\n"
   ]
  },
  {
   "cell_type": "code",
   "execution_count": 24,
   "metadata": {},
   "outputs": [
    {
     "data": {
      "application/vnd.microsoft.datawrangler.viewer.v0+json": {
       "columns": [
        {
         "name": "preferred_investment_type_tags",
         "rawType": "object",
         "type": "string"
        },
        {
         "name": "count",
         "rawType": "int64",
         "type": "integer"
        }
       ],
       "ref": "6d0a82b7-4dc8-429d-9753-8b2114e9308c",
       "rows": [
        [
         "merger/acquisition",
         "39885"
        ],
        [
         "early stage vc",
         "17950"
        ],
        [
         "seed round",
         "15982"
        ],
        [
         "buyout/lbo",
         "15276"
        ],
        [
         "later stage vc",
         "13591"
        ],
        [
         "0",
         "11626"
        ],
        [
         "pe growth/expansion",
         "9363"
        ],
        [
         "add-on",
         "8730"
        ],
        [
         "accelerator/incubator",
         "3670"
        ],
        [
         "management buyout",
         "1410"
        ],
        [
         "debt - general",
         "1387"
        ],
        [
         "recapitalization",
         "1380"
        ],
        [
         "acquisition financing",
         "1027"
        ],
        [
         "angel (individual)",
         "998"
        ],
        [
         "mezzanine",
         "855"
        ],
        [
         "carveout",
         "684"
        ],
        [
         "convertible debt",
         "582"
        ],
        [
         "loan",
         "564"
        ],
        [
         "corporate divestiture",
         "489"
        ],
        [
         "management buy-in",
         "481"
        ],
        [
         "senior debt",
         "464"
        ],
        [
         "grant",
         "435"
        ],
        [
         "spin-off",
         "424"
        ],
        [
         "asset acquisition",
         "410"
        ],
        [
         "pipe",
         "404"
        ],
        [
         "bridge",
         "313"
        ],
        [
         "secondary transaction - private",
         "284"
        ],
        [
         "subordinated debt",
         "280"
        ],
        [
         "joint venture",
         "269"
        ],
        [
         "distressed acquisition",
         "244"
        ],
        [
         "ipo",
         "221"
        ],
        [
         "public to private",
         "200"
        ],
        [
         "secondary buyout",
         "187"
        ],
        [
         "debt refinancing",
         "164"
        ],
        [
         "secured debt",
         "164"
        ],
        [
         "leveraged recapitalization",
         "144"
        ],
        [
         "gp stakes",
         "138"
        ],
        [
         "equity for service",
         "138"
        ],
        [
         "secured",
         "137"
        ],
        [
         "investor buyout by management",
         "129"
        ],
        [
         "corporate",
         "124"
        ],
        [
         "bonds",
         "118"
        ],
        [
         "junior debt",
         "114"
        ],
        [
         "asset divestiture (corporate)",
         "112"
        ],
        [
         "corporate asset purchase",
         "86"
        ],
        [
         "subordinated",
         "83"
        ],
        [
         "capitalization",
         "81"
        ],
        [
         "bonds (convertible)",
         "78"
        ],
        [
         "bankruptcy: admin/reorg",
         "77"
        ],
        [
         "second lien",
         "76"
        ]
       ],
       "shape": {
        "columns": 1,
        "rows": 325
       }
      },
      "text/plain": [
       "preferred_investment_type_tags\n",
       "merger/acquisition                                                                                                                                                                                                  39885\n",
       "early stage vc                                                                                                                                                                                                      17950\n",
       "seed round                                                                                                                                                                                                          15982\n",
       "buyout/lbo                                                                                                                                                                                                          15276\n",
       "later stage vc                                                                                                                                                                                                      13591\n",
       "                                                                                                                                                                                                                    ...  \n",
       "served as advisor at onfido.                                                                                                                                                                                            1\n",
       "board member at remessa online. he served as partner at m square investimentos.                                                                                                                                         1\n",
       "other angel organizations                                                                                                                                                                                               1\n",
       "entrepreneurs and industry experts. join us in empowering innovation as we invest in promising startups                                                                                                                 1\n",
       "serves as board member at rogue signal. he is the founder of american information security group. he founded bodyhacking. he also served as chief executive officer at exploithub. he founded infosec southwest.        1\n",
       "Name: count, Length: 325, dtype: int64"
      ]
     },
     "execution_count": 24,
     "metadata": {},
     "output_type": "execute_result"
    }
   ],
   "source": [
    "preferred_investment_type_tags_list"
   ]
  },
  {
   "cell_type": "code",
   "execution_count": 25,
   "metadata": {},
   "outputs": [
    {
     "data": {
      "application/vnd.microsoft.datawrangler.viewer.v0+json": {
       "columns": [
        {
         "name": "preferred_industry_tags",
         "rawType": "object",
         "type": "string"
        },
        {
         "name": "count",
         "rawType": "int64",
         "type": "integer"
        }
       ],
       "ref": "d9504549-4a20-4a11-beff-ed70f5ddbe8c",
       "rows": [
        [
         "software",
         "22870"
        ],
        [
         "commercial services",
         "13430"
        ],
        [
         "commercial products",
         "7877"
        ],
        [
         "other business products and services",
         "5175"
        ],
        [
         "other financial services",
         "4675"
        ],
        [
         "media",
         "4624"
        ],
        [
         "healthcare",
         "4469"
        ],
        [
         "retail",
         "4315"
        ],
        [
         "information technology",
         "4127"
        ],
        [
         "pharmaceuticals and biotechnology",
         "4085"
        ],
        [
         "consumer non-durables",
         "3707"
        ],
        [
         "financial services",
         "3633"
        ],
        [
         "it services",
         "3571"
        ],
        [
         "services (non-financial)",
         "3432"
        ],
        [
         "business products and services (b2b)",
         "3403"
        ],
        [
         "healthcare services",
         "3356"
        ],
        [
         "other information technology",
         "3301"
        ],
        [
         "healthcare devices and supplies",
         "3093"
        ],
        [
         "energy",
         "2871"
        ],
        [
         "consumer durables",
         "2857"
        ],
        [
         "consumer products and services (b2c)",
         "2800"
        ],
        [
         "communications and networking",
         "2710"
        ],
        [
         "healthcare technology systems",
         "2668"
        ],
        [
         "hotels and leisure",
         "2657"
        ],
        [
         "restaurants",
         "2390"
        ],
        [
         "transportation",
         "2372"
        ],
        [
         "agriculture",
         "2346"
        ],
        [
         "commercial transportation",
         "2215"
        ],
        [
         "food products",
         "1977"
        ],
        [
         "minerals and mining",
         "1922"
        ],
        [
         "other consumer products and services",
         "1874"
        ],
        [
         "real estate services (b2c)",
         "1824"
        ],
        [
         "computer hardware",
         "1792"
        ],
        [
         "apparel and accessories",
         "1786"
        ],
        [
         "energy services",
         "1775"
        ],
        [
         "other commercial services",
         "1693"
        ],
        [
         "insurance",
         "1690"
        ],
        [
         "exploration",
         "1676"
        ],
        [
         "production and refining",
         "1676"
        ],
        [
         "other healthcare",
         "1593"
        ],
        [
         "metals",
         "1550"
        ],
        [
         "logistics",
         "1534"
        ],
        [
         "capital markets/institutions",
         "1436"
        ],
        [
         "industrial supplies and parts",
         "1368"
        ],
        [
         "commercial banks",
         "1207"
        ],
        [
         "chemicals and gases",
         "1184"
        ],
        [
         "other energy",
         "1178"
        ],
        [
         "other commercial products",
         "1146"
        ],
        [
         "semiconductors",
         "1095"
        ],
        [
         "materials and resources",
         "1055"
        ]
       ],
       "shape": {
        "columns": 1,
        "rows": 948
       }
      },
      "text/plain": [
       "preferred_industry_tags\n",
       "software                                                                                                                                                                                                                    22870\n",
       "commercial services                                                                                                                                                                                                         13430\n",
       "commercial products                                                                                                                                                                                                          7877\n",
       "other business products and services                                                                                                                                                                                         5175\n",
       "other financial services                                                                                                                                                                                                     4675\n",
       "                                                                                                                                                                                                                            ...  \n",
       "endowment cum whole life                                                                                                                                                                                                        1\n",
       "business leader with extensive experience in leading technology driven business units for over 25 years. he has been based out of germany for over 18 years while managing various industry verticals across europe &amp        1\n",
       "a experts. dr. wiemann is an angel investor.                                                                                                                                                                                    1\n",
       "co. she also is an angel investor.                                                                                                                                                                                              1\n",
       "safety products for organizations across canada.                                                                                                                                                                                1\n",
       "Name: count, Length: 948, dtype: int64"
      ]
     },
     "execution_count": 25,
     "metadata": {},
     "output_type": "execute_result"
    }
   ],
   "source": [
    "preferred_industry_tags_list"
   ]
  }
 ],
 "metadata": {
  "kernelspec": {
   "display_name": "base",
   "language": "python",
   "name": "python3"
  },
  "language_info": {
   "codemirror_mode": {
    "name": "ipython",
    "version": 3
   },
   "file_extension": ".py",
   "mimetype": "text/x-python",
   "name": "python",
   "nbconvert_exporter": "python",
   "pygments_lexer": "ipython3",
   "version": "3.12.7"
  }
 },
 "nbformat": 4,
 "nbformat_minor": 2
}
